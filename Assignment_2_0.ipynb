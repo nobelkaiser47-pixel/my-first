{
  "cells": [
    {
      "cell_type": "markdown",
      "metadata": {
        "id": "view-in-github",
        "colab_type": "text"
      },
      "source": [
        "<a href=\"https://colab.research.google.com/github/nobelkaiser47-pixel/my-first/blob/main/Assignment_2_0.ipynb\" target=\"_parent\"><img src=\"https://colab.research.google.com/assets/colab-badge.svg\" alt=\"Open In Colab\"/></a>"
      ]
    },
    {
      "cell_type": "markdown",
      "source": [
        "## 2.1 *Create* variables for your name,age,and favorite color,then print them with descriptive labels"
      ],
      "metadata": {
        "id": "0DDBCsiA0FeY"
      }
    },
    {
      "cell_type": "code",
      "source": [
        "name=\"Nobel\"\n",
        "age=\"28\"\n",
        "favorite_color=\"blue and sky\"\n",
        "#printing variables\n",
        "print(\"name:\",name)\n",
        "print(\"age:\",age)\n",
        "print(\"favorite color:\",favorite_color)"
      ],
      "metadata": {
        "id": "njG-JTLf0gA9",
        "outputId": "90e08fb7-e07c-4d24-bbc3-1ffcd4ed40b1",
        "colab": {
          "base_uri": "https://localhost:8080/"
        }
      },
      "execution_count": 2,
      "outputs": [
        {
          "output_type": "stream",
          "name": "stdout",
          "text": [
            "name: Nobel\n",
            "age: 28\n",
            "favorite color: blue and sky\n"
          ]
        }
      ]
    },
    {
      "cell_type": "markdown",
      "source": [
        "## 2.2 Create one variables of one each type and use *the* type() function to verifyits type"
      ],
      "metadata": {
        "id": "qZKVwJvn1xjh"
      }
    },
    {
      "cell_type": "code",
      "source": [
        "number=29\n",
        "float=10.5\n",
        "city=\"chattogram\"\n",
        "is_right=True\n",
        "value=None\n",
        "#type of function\n",
        "print(type(number))\n",
        "print(type(float))\n",
        "print(type(city))\n",
        "print(type(is_right))\n",
        "print(type(value))"
      ],
      "metadata": {
        "id": "GyixVMVa2YvT",
        "outputId": "6735c2e6-ea44-42c4-f60b-4cc65884b0db",
        "colab": {
          "base_uri": "https://localhost:8080/"
        }
      },
      "execution_count": 7,
      "outputs": [
        {
          "output_type": "stream",
          "name": "stdout",
          "text": [
            "<class 'int'>\n",
            "<class 'float'>\n",
            "<class 'str'>\n",
            "<class 'bool'>\n",
            "<class 'NoneType'>\n"
          ]
        }
      ]
    },
    {
      "cell_type": "markdown",
      "source": [
        "## 2.3 Calculate the area and perimeter of a reactangle with length 7 and width *5*"
      ],
      "metadata": {
        "id": "1mE3vN9h36SB"
      }
    },
    {
      "cell_type": "code",
      "source": [
        "length= 7\n",
        "width= 5\n",
        "# Calculation\n",
        "area= length * width\n",
        "perimeter= 2 * (length + width)\n",
        "#output\n",
        "print(\"Area:\",area)\n",
        "print(\"perimeter\",perimeter)"
      ],
      "metadata": {
        "id": "elcI0yAz4X2W",
        "outputId": "a51cc415-3248-45c9-a29b-b85684fba902",
        "colab": {
          "base_uri": "https://localhost:8080/"
        }
      },
      "execution_count": 13,
      "outputs": [
        {
          "output_type": "stream",
          "name": "stdout",
          "text": [
            "Area: 35\n",
            "perimeter 24\n"
          ]
        }
      ]
    },
    {
      "cell_type": "markdown",
      "source": [
        "## 2.4 Create a list of 5 bangladeshi foods,then acess the first and last elements."
      ],
      "metadata": {
        "id": "btoZQBXm68eG"
      }
    },
    {
      "cell_type": "code",
      "source": [
        "# Creating a list\n",
        "foods=[\"Dal\", \"vat\", \"mac\", \"chicken\", \"beef\"]\n",
        "#acessing first and last foods\n",
        "print(foods[0])\n",
        "print(foods[4])"
      ],
      "metadata": {
        "id": "MpDkABw17fV9",
        "outputId": "c6619d6e-29a4-4387-fa98-c212b32fbade",
        "colab": {
          "base_uri": "https://localhost:8080/"
        }
      },
      "execution_count": 14,
      "outputs": [
        {
          "output_type": "stream",
          "name": "stdout",
          "text": [
            "Dal\n",
            "beef\n"
          ]
        }
      ]
    },
    {
      "cell_type": "markdown",
      "source": [
        "## 2.5 Create a list of 5 number ,add a new number,remove one,and then short the list"
      ],
      "metadata": {
        "id": "UJoUREbf9T2r"
      }
    },
    {
      "cell_type": "code",
      "source": [
        "# list of 5 number\n",
        "number = [4, 6, 8, 10, 12]\n",
        "number.append(5)\n",
        "number.remove(8)\n",
        "number.sort()\n",
        "print(\"List\",number)"
      ],
      "metadata": {
        "id": "mCzR8blO9qON",
        "outputId": "41b503f4-3a8d-40b2-90c7-a6aa26e2529c",
        "colab": {
          "base_uri": "https://localhost:8080/"
        }
      },
      "execution_count": 17,
      "outputs": [
        {
          "output_type": "stream",
          "name": "stdout",
          "text": [
            "List [4, 5, 6, 10, 12]\n"
          ]
        }
      ]
    },
    {
      "cell_type": "markdown",
      "source": [
        "## 2.6 Create a dictionary about yourself with at least 4 key-value *pairs*"
      ],
      "metadata": {
        "id": "xegKNtwcADEO"
      }
    },
    {
      "cell_type": "code",
      "source": [
        "# dictionary about my self\n",
        "my_info ={\"name\": \"Nobel\", \"age\": 29, \"profession\": \"Electrical engineering\", \"phone\": \"01858407847\", }\n",
        "#accessing the value of dictionary\n",
        "my_info[\"profession\"]"
      ],
      "metadata": {
        "id": "9Ci8hs-CAY09",
        "outputId": "2bc9a591-1caa-4714-df0f-c5a1da2957ac",
        "colab": {
          "base_uri": "https://localhost:8080/",
          "height": 35
        }
      },
      "execution_count": 18,
      "outputs": [
        {
          "output_type": "execute_result",
          "data": {
            "text/plain": [
              "'Electrical engineering'"
            ],
            "application/vnd.google.colaboratory.intrinsic+json": {
              "type": "string"
            }
          },
          "metadata": {},
          "execution_count": 18
        }
      ]
    },
    {
      "cell_type": "markdown",
      "source": [
        "## 2.7 Create a Tuple with the latitude and longitude of a famous place in bangladesh."
      ],
      "metadata": {
        "id": "hYOqM7P2DCCn"
      }
    },
    {
      "cell_type": "code",
      "source": [
        "#latitude and longitude of sundarban\n",
        "sundarban_location = (21.949, 89.183)\n",
        "print(\"sundarban location(lat,long):\", sundarban_location)"
      ],
      "metadata": {
        "id": "RBbMWbG2EDdJ",
        "outputId": "3da79479-2eff-43a8-f617-0ac0781e1993",
        "colab": {
          "base_uri": "https://localhost:8080/"
        }
      },
      "execution_count": 19,
      "outputs": [
        {
          "output_type": "stream",
          "name": "stdout",
          "text": [
            "sundarban location(lat,long): (21.949, 89.183)\n"
          ]
        }
      ]
    },
    {
      "cell_type": "markdown",
      "source": [],
      "metadata": {
        "id": "sItCnTS7EtHt"
      }
    }
  ],
  "metadata": {
    "colab": {
      "name": "Assignment 2.0",
      "provenance": [],
      "toc_visible": true,
      "include_colab_link": true
    },
    "kernelspec": {
      "display_name": "Python 3",
      "name": "python3"
    }
  },
  "nbformat": 4,
  "nbformat_minor": 0
}
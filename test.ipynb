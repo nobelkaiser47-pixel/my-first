{
  "nbformat": 4,
  "nbformat_minor": 0,
  "metadata": {
    "colab": {
      "provenance": [],
      "authorship_tag": "ABX9TyPZU8nyNlGiOjDmKsdT83Um",
      "include_colab_link": true
    },
    "kernelspec": {
      "name": "python3",
      "display_name": "Python 3"
    },
    "language_info": {
      "name": "python"
    }
  },
  "cells": [
    {
      "cell_type": "markdown",
      "metadata": {
        "id": "view-in-github",
        "colab_type": "text"
      },
      "source": [
        "<a href=\"https://colab.research.google.com/github/nobelkaiser47-pixel/my-first/blob/main/test.ipynb\" target=\"_parent\"><img src=\"https://colab.research.google.com/assets/colab-badge.svg\" alt=\"Open In Colab\"/></a>"
      ]
    },
    {
      "cell_type": "code",
      "execution_count": 1,
      "metadata": {
        "colab": {
          "base_uri": "https://localhost:8080/"
        },
        "id": "zpRcHoCvEKnn",
        "outputId": "a4023ea4-fabe-490f-cfa0-02a711d96057"
      },
      "outputs": [
        {
          "output_type": "stream",
          "name": "stdout",
          "text": [
            "nobel\n"
          ]
        }
      ],
      "source": [
        "print ('nobel')"
      ]
    },
    {
      "cell_type": "markdown",
      "source": [
        "# *Introduction*"
      ],
      "metadata": {
        "id": "tpnLHV0sE6hz"
      }
    }
  ]
}
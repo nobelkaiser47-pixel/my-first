{
  "nbformat": 4,
  "nbformat_minor": 0,
  "metadata": {
    "colab": {
      "provenance": [],
      "toc_visible": true,
      "authorship_tag": "ABX9TyOHglaqW4eNGQZDJYaGZyt8",
      "include_colab_link": true
    },
    "kernelspec": {
      "name": "python3",
      "display_name": "Python 3"
    },
    "language_info": {
      "name": "python"
    }
  },
  "cells": [
    {
      "cell_type": "markdown",
      "metadata": {
        "id": "view-in-github",
        "colab_type": "text"
      },
      "source": [
        "<a href=\"https://colab.research.google.com/github/nobelkaiser47-pixel/my-first/blob/main/introduction.ipynb\" target=\"_parent\"><img src=\"https://colab.research.google.com/assets/colab-badge.svg\" alt=\"Open In Colab\"/></a>"
      ]
    },
    {
      "cell_type": "code",
      "execution_count": 6,
      "metadata": {
        "id": "-CWczBBZQ-Wm",
        "colab": {
          "base_uri": "https://localhost:8080/"
        },
        "outputId": "49cf38f7-490d-4fc9-8347-a51435b415ce"
      },
      "outputs": [
        {
          "output_type": "stream",
          "name": "stdout",
          "text": [
            "welcome to Skill Morph\n"
          ]
        }
      ],
      "source": [
        "print ('welcome to Skill Morph')"
      ]
    },
    {
      "cell_type": "code",
      "source": [
        "23+12"
      ],
      "metadata": {
        "colab": {
          "base_uri": "https://localhost:8080/"
        },
        "id": "dlDk-H46DwsQ",
        "outputId": "f72b468e-84ce-4318-dbd4-a8382a20d53f"
      },
      "execution_count": 7,
      "outputs": [
        {
          "output_type": "execute_result",
          "data": {
            "text/plain": [
              "35"
            ]
          },
          "metadata": {},
          "execution_count": 7
        }
      ]
    },
    {
      "cell_type": "markdown",
      "source": [
        "# **Chapter 1**"
      ],
      "metadata": {
        "id": "gndliRWHES8z"
      }
    },
    {
      "cell_type": "code",
      "source": [],
      "metadata": {
        "id": "GJJHS7lJEb1U"
      },
      "execution_count": null,
      "outputs": []
    }
  ]
}